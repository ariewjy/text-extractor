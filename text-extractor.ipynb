{
 "cells": [
  {
   "cell_type": "markdown",
   "id": "d9c420de-9a84-4e1a-a5ca-ba9a2abe6eb4",
   "metadata": {},
   "source": [
    "# Importing libraries"
   ]
  },
  {
   "cell_type": "code",
   "execution_count": 2,
   "id": "708f6188-d6b1-412c-bec4-1afb52bb851c",
   "metadata": {},
   "outputs": [],
   "source": [
    "from pdf2image import convert_from_path\n",
    "from pytesseract import image_to_string, image_to_boxes, image_to_data\n",
    "import cv2\n"
   ]
  },
  {
   "cell_type": "markdown",
   "id": "7790ff78",
   "metadata": {},
   "source": [
    "# Parsing Image from Pdf"
   ]
  },
  {
   "cell_type": "code",
   "execution_count": 4,
   "id": "8214e628",
   "metadata": {},
   "outputs": [],
   "source": [
    "images = convert_from_path('./data/finalreport.pdf')\n",
    " \n",
    "for page in range(len(images)):\n",
    "    # Save pages as images in the pdf\n",
    "    images[page].save('page'+ str(page+1) +'.jpg', 'JPEG')"
   ]
  },
  {
   "cell_type": "markdown",
   "id": "f9258d11",
   "metadata": {},
   "source": [
    "# Parsing Text from Image [Page 13](page13.jpg)"
   ]
  },
  {
   "cell_type": "code",
   "execution_count": 3,
   "id": "4b2ced6c-2778-415b-9281-e741c15653d6",
   "metadata": {},
   "outputs": [
    {
     "data": {
      "text/plain": [
       "\"TERNAL CORRESPONDENCE\\na”\\n\\nneers cee OR I 4a\\nCR. 2¢38(H\\n\\nom Je E. Warren : . ar Houston REFER TO 443102403\\n\\n» E. K. Ericson ar Sydney DATE August 22, 1969\\n\\n&\\nSpecial Studies-Aquarius #1\\n\\nQ/4_P_Samples .\\n\\nIn compliance with Dr. T. C. Wilson's letter dated December 18, 1968 we are sending\\nyou by this letter the results of our study. The number of palynomorphs present in the\\n‘examined well were adequate to date the section but would be rated fair to poor if com-\\npared to normal frequencies. All data were obtained from cores, therefore contamination\\nwas not a factor.\\n\\nThe section below 1999' and above 5770' could be further subdivided using paly-\\nnology if desired. Our instructions from Dr. Wilson, however, limited our investigation\\nto the barren zone below 5770'. We did not feel we had the authority or that any value\\nwould be gained by a more finite breakdown of the Miocene - Eocene section. .\\n\\ne scatter = ane 22 x =\\n\\nSamples Examined and Age Assignment\\n\\nDEPTH\\nSAMPLE ___(feet) AGE REMARKS\\nCore 1 1000 - 1002.6 Pleistocene Foraminifera Report\\n2 1500 - 1503 Lower Pliocene Foraminifera Report\\n* 3 1999 = 2001 Upper Miocene Foraminifera Report\\n4 2060 - 2068 Upper Miocene Foraminifera Report\\n5 2907 - 2910 Miocene Foraminifera Report\\n6 3452 - 3454 Miocene?\\n7 3967 - 3976 Eocene\\n10 5069 ~ 5072 Eocene\\n11 5425 - 5427 Eocene\\n12 5770 - 5773 ? No th. Diagnostic\\n13 6321 ~ 6324 ? Barren\\n14° 6824 - 6830 U. Cretaceous (Maestrichtian) ‘\\n15 7343 - 7349 U. Cretaceous (Maestrichtian)\\n16 7830 - 7833 Barren\\n17 8238 ~ 8240 Barren\\n18 8615 ~ 8616 Barren\\n20 8691 - 8694 Barren\\n\\nObservations\\n\\nCores 20, 18, 17, & 16\\n\\n. The lower four cores were barren of palynomorphs. This interval did yield\\n\""
      ]
     },
     "execution_count": 3,
     "metadata": {},
     "output_type": "execute_result"
    }
   ],
   "source": [
    "#extracting raw text from image\n",
    "text_page13 = image_to_string('./page13.jpg')\n",
    "text_page13"
   ]
  },
  {
   "cell_type": "code",
   "execution_count": 4,
   "id": "1bc9fc4e",
   "metadata": {},
   "outputs": [
    {
     "data": {
      "text/plain": [
       "['TERNAL CORRESPONDENCE',\n",
       " 'a”',\n",
       " '',\n",
       " 'neers cee OR I 4a',\n",
       " 'CR. 2¢38(H',\n",
       " '',\n",
       " 'om Je E. Warren : . ar Houston REFER TO 443102403',\n",
       " '',\n",
       " '» E. K. Ericson ar Sydney DATE August 22, 1969',\n",
       " '',\n",
       " '&',\n",
       " 'Special Studies-Aquarius #1',\n",
       " '',\n",
       " 'Q/4_P_Samples .',\n",
       " '',\n",
       " \"In compliance with Dr. T. C. Wilson's letter dated December 18, 1968 we are sending\",\n",
       " 'you by this letter the results of our study. The number of palynomorphs present in the',\n",
       " '‘examined well were adequate to date the section but would be rated fair to poor if com-',\n",
       " 'pared to normal frequencies. All data were obtained from cores, therefore contamination',\n",
       " 'was not a factor.',\n",
       " '',\n",
       " \"The section below 1999' and above 5770' could be further subdivided using paly-\",\n",
       " 'nology if desired. Our instructions from Dr. Wilson, however, limited our investigation',\n",
       " \"to the barren zone below 5770'. We did not feel we had the authority or that any value\",\n",
       " 'would be gained by a more finite breakdown of the Miocene - Eocene section. .',\n",
       " '',\n",
       " 'e scatter = ane 22 x =',\n",
       " '',\n",
       " 'Samples Examined and Age Assignment',\n",
       " '',\n",
       " 'DEPTH',\n",
       " 'SAMPLE ___(feet) AGE REMARKS',\n",
       " 'Core 1 1000 - 1002.6 Pleistocene Foraminifera Report',\n",
       " '2 1500 - 1503 Lower Pliocene Foraminifera Report',\n",
       " '* 3 1999 = 2001 Upper Miocene Foraminifera Report',\n",
       " '4 2060 - 2068 Upper Miocene Foraminifera Report',\n",
       " '5 2907 - 2910 Miocene Foraminifera Report',\n",
       " '6 3452 - 3454 Miocene?',\n",
       " '7 3967 - 3976 Eocene',\n",
       " '10 5069 ~ 5072 Eocene',\n",
       " '11 5425 - 5427 Eocene',\n",
       " '12 5770 - 5773 ? No th. Diagnostic',\n",
       " '13 6321 ~ 6324 ? Barren',\n",
       " '14° 6824 - 6830 U. Cretaceous (Maestrichtian) ‘',\n",
       " '15 7343 - 7349 U. Cretaceous (Maestrichtian)',\n",
       " '16 7830 - 7833 Barren',\n",
       " '17 8238 ~ 8240 Barren',\n",
       " '18 8615 ~ 8616 Barren',\n",
       " '20 8691 - 8694 Barren',\n",
       " '',\n",
       " 'Observations',\n",
       " '',\n",
       " 'Cores 20, 18, 17, & 16',\n",
       " '',\n",
       " '. The lower four cores were barren of palynomorphs. This interval did yield']"
      ]
     },
     "execution_count": 4,
     "metadata": {},
     "output_type": "execute_result"
    }
   ],
   "source": [
    "#see if split between lines helps\n",
    "text_page13.splitlines()"
   ]
  },
  {
   "cell_type": "code",
   "execution_count": 5,
   "id": "fa278437",
   "metadata": {},
   "outputs": [
    {
     "name": "stdout",
     "output_type": "stream",
     "text": [
      "TERNAL CORRESPONDENCE\n",
      "a”\n",
      "\n",
      "neers cee OR I 4a\n",
      "CR. 2¢38(H\n",
      "\n",
      "om Je E. Warren : . ar Houston REFER TO 443102403\n",
      "\n",
      "» E. K. Ericson ar Sydney DATE August 22, 1969\n",
      "\n",
      "&\n",
      "Special Studies-Aquarius #1\n",
      "\n",
      "Q/4_P_Samples .\n",
      "\n",
      "In compliance with Dr. T. C. Wilson's letter dated December 18, 1968 we are sending\n",
      "you by this letter the results of our study. The number of palynomorphs present in the\n",
      "‘examined well were adequate to date the section but would be rated fair to poor if com-\n",
      "pared to normal frequencies. All data were obtained from cores, therefore contamination\n",
      "was not a factor.\n",
      "\n",
      "The section below 1999' and above 5770' could be further subdivided using paly-\n",
      "nology if desired. Our instructions from Dr. Wilson, however, limited our investigation\n",
      "to the barren zone below 5770'. We did not feel we had the authority or that any value\n",
      "would be gained by a more finite breakdown of the Miocene - Eocene section. .\n",
      "\n",
      "e scatter = ane 22 x =\n",
      "\n",
      "Samples Examined and Age Assignment\n",
      "\n",
      "DEPTH\n",
      "SAMPLE ___(feet) AGE REMARKS\n",
      "Core 1 1000 - 1002.6 Pleistocene Foraminifera Report\n",
      "2 1500 - 1503 Lower Pliocene Foraminifera Report\n",
      "* 3 1999 = 2001 Upper Miocene Foraminifera Report\n",
      "4 2060 - 2068 Upper Miocene Foraminifera Report\n",
      "5 2907 - 2910 Miocene Foraminifera Report\n",
      "6 3452 - 3454 Miocene?\n",
      "7 3967 - 3976 Eocene\n",
      "10 5069 ~ 5072 Eocene\n",
      "11 5425 - 5427 Eocene\n",
      "12 5770 - 5773 ? No th. Diagnostic\n",
      "13 6321 ~ 6324 ? Barren\n",
      "14° 6824 - 6830 U. Cretaceous (Maestrichtian) ‘\n",
      "15 7343 - 7349 U. Cretaceous (Maestrichtian)\n",
      "16 7830 - 7833 Barren\n",
      "17 8238 ~ 8240 Barren\n",
      "18 8615 ~ 8616 Barren\n",
      "20 8691 - 8694 Barren\n",
      "\n",
      "Observations\n",
      "\n",
      "Cores 20, 18, 17, & 16\n",
      "\n",
      ". The lower four cores were barren of palynomorphs. This interval did yield\n"
     ]
    }
   ],
   "source": [
    "# looping for better understanding of index and text\n",
    "for index, text in enumerate (text_page13.splitlines()):\n",
    "  print(text)"
   ]
  },
  {
   "cell_type": "markdown",
   "id": "fe0a5ea1",
   "metadata": {},
   "source": [
    "# Marking the Text -- `WORK IN PROGRESS`"
   ]
  },
  {
   "cell_type": "code",
   "execution_count": 6,
   "id": "4adf3e3f",
   "metadata": {},
   "outputs": [],
   "source": [
    "# img = cv2.imread(\"./page13.jpg\")\n",
    "# height, width, _ = img.shape"
   ]
  },
  {
   "cell_type": "code",
   "execution_count": 10,
   "id": "38a0fd26",
   "metadata": {},
   "outputs": [],
   "source": [
    "# setting = r\"--psm 11 --oem 3\"\n",
    "\n",
    "# boxes = image_to_boxes('./page13.jpg')\n",
    "# for box in boxes.splitlines():\n",
    "#   box = box.split(\" \")\n",
    "#   img = cv2.rectangle(img, (int(box[1]), height - int(box[2]), int(box[3]), height - int(box[4])), (0,255,0), 2)\n",
    "\n",
    "# cv2.imshow(\"img\", img)\n",
    "# cv2.waitKey(0)\n",
    "\n"
   ]
  },
  {
   "cell_type": "code",
   "execution_count": null,
   "id": "78eb3c89",
   "metadata": {},
   "outputs": [],
   "source": []
  },
  {
   "cell_type": "code",
   "execution_count": null,
   "id": "1103a247",
   "metadata": {},
   "outputs": [],
   "source": []
  }
 ],
 "metadata": {
  "kernelspec": {
   "display_name": "minidis",
   "language": "python",
   "name": "minidis"
  },
  "language_info": {
   "codemirror_mode": {
    "name": "ipython",
    "version": 3
   },
   "file_extension": ".py",
   "mimetype": "text/x-python",
   "name": "python",
   "nbconvert_exporter": "python",
   "pygments_lexer": "ipython3",
   "version": "3.10.4"
  },
  "vscode": {
   "interpreter": {
    "hash": "5ef155548aed44a327ec2a0a3a449aae813ed17aaae8aa3791adbd58dad7ea07"
   }
  }
 },
 "nbformat": 4,
 "nbformat_minor": 5
}
